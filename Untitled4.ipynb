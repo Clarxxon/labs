{
  "nbformat": 4,
  "nbformat_minor": 0,
  "metadata": {
    "colab": {
      "provenance": [],
      "authorship_tag": "ABX9TyP6B6cXM2zRiYtV6jbLfWCr",
      "include_colab_link": true
    },
    "kernelspec": {
      "name": "python3",
      "display_name": "Python 3"
    },
    "language_info": {
      "name": "python"
    }
  },
  "cells": [
    {
      "cell_type": "markdown",
      "metadata": {
        "id": "view-in-github",
        "colab_type": "text"
      },
      "source": [
        "<a href=\"https://colab.research.google.com/github/Clarxxon/labs/blob/main/Untitled4.ipynb\" target=\"_parent\"><img src=\"https://colab.research.google.com/assets/colab-badge.svg\" alt=\"Open In Colab\"/></a>"
      ]
    },
    {
      "cell_type": "code",
      "execution_count": 2,
      "metadata": {
        "id": "XXe6nTI4-GaA"
      },
      "outputs": [],
      "source": [
        "a = 123"
      ]
    },
    {
      "cell_type": "code",
      "source": [],
      "metadata": {
        "id": "0tXrEPN8-Kvu"
      },
      "execution_count": null,
      "outputs": []
    }
  ]
}